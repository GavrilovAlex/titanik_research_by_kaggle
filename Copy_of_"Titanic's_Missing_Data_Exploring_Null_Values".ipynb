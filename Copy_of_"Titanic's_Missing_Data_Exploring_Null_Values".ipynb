{
  "metadata": {
    "kernelspec": {
      "language": "python",
      "display_name": "Python 3",
      "name": "python3"
    },
    "language_info": {
      "name": "python",
      "version": "3.10.13",
      "mimetype": "text/x-python",
      "codemirror_mode": {
        "name": "ipython",
        "version": 3
      },
      "pygments_lexer": "ipython3",
      "nbconvert_exporter": "python",
      "file_extension": ".py"
    },
    "kaggle": {
      "accelerator": "none",
      "dataSources": [
        {
          "sourceId": 7959041,
          "sourceType": "datasetVersion",
          "datasetId": 4681778
        }
      ],
      "dockerImageVersionId": 30673,
      "isInternetEnabled": false,
      "language": "python",
      "sourceType": "notebook",
      "isGpuEnabled": false
    },
    "colab": {
      "provenance": [],
      "include_colab_link": true
    }
  },
  "nbformat_minor": 0,
  "nbformat": 4,
  "cells": [
    {
      "cell_type": "markdown",
      "metadata": {
        "id": "view-in-github",
        "colab_type": "text"
      },
      "source": [
        "<a href=\"https://colab.research.google.com/github/GavrilovAlex/titanik_research_by_kaggle/blob/main/Copy_of_%22Titanic's_Missing_Data_Exploring_Null_Values%22.ipynb\" target=\"_parent\"><img src=\"https://colab.research.google.com/assets/colab-badge.svg\" alt=\"Open In Colab\"/></a>"
      ]
    },
    {
      "source": [
        "\n",
        "# IMPORTANT: RUN THIS CELL IN ORDER TO IMPORT YOUR KAGGLE DATA SOURCES\n",
        "# TO THE CORRECT LOCATION (/kaggle/input) IN YOUR NOTEBOOK,\n",
        "# THEN FEEL FREE TO DELETE THIS CELL.\n",
        "# NOTE: THIS NOTEBOOK ENVIRONMENT DIFFERS FROM KAGGLE'S PYTHON\n",
        "# ENVIRONMENT SO THERE MAY BE MISSING LIBRARIES USED BY YOUR\n",
        "# NOTEBOOK.\n",
        "\n",
        "import os\n",
        "import sys\n",
        "from tempfile import NamedTemporaryFile\n",
        "from urllib.request import urlopen\n",
        "from urllib.parse import unquote, urlparse\n",
        "from urllib.error import HTTPError\n",
        "from zipfile import ZipFile\n",
        "import tarfile\n",
        "import shutil\n",
        "\n",
        "CHUNK_SIZE = 40960\n",
        "DATA_SOURCE_MAPPING = 'titanic-dataset:https%3A%2F%2Fstorage.googleapis.com%2Fkaggle-data-sets%2F4681778%2F7959041%2Fbundle%2Farchive.zip%3FX-Goog-Algorithm%3DGOOG4-RSA-SHA256%26X-Goog-Credential%3Dgcp-kaggle-com%2540kaggle-161607.iam.gserviceaccount.com%252F20240404%252Fauto%252Fstorage%252Fgoog4_request%26X-Goog-Date%3D20240404T222422Z%26X-Goog-Expires%3D259200%26X-Goog-SignedHeaders%3Dhost%26X-Goog-Signature%3D67132e636d0af55bfaa43af1993ea7d5866e699b6b6b69c21a18e1b23209edffc9b887af7395a4ce709aef73cca99db90e4594d1884753505e96447e0934294bcca6fbf9f0c3de3ba4dafb3c84afe6e4fdbd1433836b27715dea54ff2fd6b242cbf40363a56cbe5925c6d96cb0222441fc9de99a4067028ff8b25f7e95e67b3b37b274b59ed39afab82deb447ebb2e9380558f1498ca2289fd622c96654461f5ae7027613997a54491b89566343436a5221a0bb7a6a08a9e248a04684844505283918a951bce250617cc52888d904c7885b72c29b9e8278fc6d4e008fd093126221f4124ea71df9554f08b773d8459f70e06c70b8cf8ea535d9b0fd09656383a'\n",
        "\n",
        "KAGGLE_INPUT_PATH='/kaggle/input'\n",
        "KAGGLE_WORKING_PATH='/kaggle/working'\n",
        "KAGGLE_SYMLINK='kaggle'\n",
        "\n",
        "!umount /kaggle/input/ 2> /dev/null\n",
        "shutil.rmtree('/kaggle/input', ignore_errors=True)\n",
        "os.makedirs(KAGGLE_INPUT_PATH, 0o777, exist_ok=True)\n",
        "os.makedirs(KAGGLE_WORKING_PATH, 0o777, exist_ok=True)\n",
        "\n",
        "try:\n",
        "  os.symlink(KAGGLE_INPUT_PATH, os.path.join(\"..\", 'input'), target_is_directory=True)\n",
        "except FileExistsError:\n",
        "  pass\n",
        "try:\n",
        "  os.symlink(KAGGLE_WORKING_PATH, os.path.join(\"..\", 'working'), target_is_directory=True)\n",
        "except FileExistsError:\n",
        "  pass\n",
        "\n",
        "for data_source_mapping in DATA_SOURCE_MAPPING.split(','):\n",
        "    directory, download_url_encoded = data_source_mapping.split(':')\n",
        "    download_url = unquote(download_url_encoded)\n",
        "    filename = urlparse(download_url).path\n",
        "    destination_path = os.path.join(KAGGLE_INPUT_PATH, directory)\n",
        "    try:\n",
        "        with urlopen(download_url) as fileres, NamedTemporaryFile() as tfile:\n",
        "            total_length = fileres.headers['content-length']\n",
        "            print(f'Downloading {directory}, {total_length} bytes compressed')\n",
        "            dl = 0\n",
        "            data = fileres.read(CHUNK_SIZE)\n",
        "            while len(data) > 0:\n",
        "                dl += len(data)\n",
        "                tfile.write(data)\n",
        "                done = int(50 * dl / int(total_length))\n",
        "                sys.stdout.write(f\"\\r[{'=' * done}{' ' * (50-done)}] {dl} bytes downloaded\")\n",
        "                sys.stdout.flush()\n",
        "                data = fileres.read(CHUNK_SIZE)\n",
        "            if filename.endswith('.zip'):\n",
        "              with ZipFile(tfile) as zfile:\n",
        "                zfile.extractall(destination_path)\n",
        "            else:\n",
        "              with tarfile.open(tfile.name) as tarfile:\n",
        "                tarfile.extractall(destination_path)\n",
        "            print(f'\\nDownloaded and uncompressed: {directory}')\n",
        "    except HTTPError as e:\n",
        "        print(f'Failed to load (likely expired) {download_url} to path {destination_path}')\n",
        "        continue\n",
        "    except OSError as e:\n",
        "        print(f'Failed to load {download_url} to path {destination_path}')\n",
        "        continue\n",
        "\n",
        "print('Data source import complete.')\n"
      ],
      "metadata": {
        "id": "Sx2TfVpeN9ir"
      },
      "cell_type": "code",
      "outputs": [],
      "execution_count": null
    },
    {
      "cell_type": "markdown",
      "source": [
        "# **Introduction: \"Unraveling the Mysteries of Titanic's Missing Data\"**\n",
        "\n",
        "\n",
        "### **🚢 Welcome aboard, explorers!**\n",
        "\n",
        "In this thrilling voyage through the Titanic dataset, we're setting sail to uncover the hidden secrets lurking within missing data.\n",
        "\n",
        "* 🔍 The Titanic dataset isn't just a collection of numbers; it's a portal to the past, offering glimpses into the lives of those who sailed on the ill-fated voyage. But amidst the stories and statistics lie gaps, mysteries waiting to be solved.\n",
        "\n",
        "* 🕵️‍♀️ Missing data isn't just an inconvenience; it's a puzzle begging to be deciphered. How do we handle these missing pieces? What tales do they hold, and how do they shape our understanding of history?\n",
        "\n",
        "* 💡 In this notebook, we embark on a daring adventure to explore the complexities of missing values in the Titanic dataset. From the opulent cabins of first-class passengers to the cramped quarters of steerage, we'll navigate through the data, shedding light on the untold narratives obscured by missing information.\n",
        "\n",
        "* 📊 Through dynamic visualizations, insightful analyses, and interactive discussions, we'll unravel the mysteries of missing data together. We'll dive into the heart of the dataset, uncovering patterns, trends, and anomalies that reveal the true essence of the Titanic's passengers.\n",
        "\n",
        "* 🔍 Join us on this captivating journey as we confront the enigma of missing values head-on. Together, we'll unravel the mysteries of Titanic's missing data and unearth the stories that lay hidden beneath the surface.\n",
        "\n",
        "* ⚓️ Let's set sail and explore the secrets of the Titanic's missing data!\n",
        "\n",
        "- - - - - - -- - - -- - - -\n"
      ],
      "metadata": {
        "id": "Vu3suH2cN9is"
      }
    },
    {
      "cell_type": "markdown",
      "source": [
        "# **Titanic Dataset Description :**\n",
        "\n",
        "🚢 The Titanic dataset is a captivating collection of data that offers a glimpse into one of the most iconic events in maritime history: the sinking of the RMS Titanic. This dataset, often used as a quintessential example in data analysis and machine learning, provides valuable insights into the passengers aboard the ill-fated voyage.\n",
        "\n",
        "**🔍 Features:**\n",
        "--\n",
        "The dataset comprises a variety of features that capture different aspects of the passengers' demographics, ticket details, and survival status. These features include:\n",
        "\n",
        "* pclass: Passenger class (1st, 2nd, or 3rd).\n",
        "* survived: Survival status (0 = No, 1 = Yes).\n",
        "* name: Passenger's name.\n",
        "* sex: Passenger's gender.\n",
        "* age: Passenger's age.\n",
        "* sibsp: Number of siblings or spouses aboard.\n",
        "* parch: Number of parents or children aboard.\n",
        "* ticket: Ticket number.\n",
        "* fare: Passenger fare.\n",
        "* cabin: Cabin number.\n",
        "* embarked: Port of embarkation (C = Cherbourg, Q = Queenstown, S = Southampton).\n",
        "* boat: Lifeboat number (if survived).\n",
        "* body: Body number (if not survived).\n",
        "* home.dest: Home destination.\n",
        "\n",
        "**📊 Purpose:**\n",
        "--\n",
        "The dataset serves as a treasure trove for data analysts, researchers, and enthusiasts seeking to uncover the stories and statistics behind the Titanic's passengers. It provides a rich source of information for exploring demographics, survival rates, and factors influencing passenger outcomes.\n",
        "\n",
        "--------------------------\n",
        "------------------"
      ],
      "metadata": {
        "id": "cdyrEdlrN9it"
      }
    },
    {
      "cell_type": "markdown",
      "source": [
        "# **Step 1 : Import Libraries**"
      ],
      "metadata": {
        "id": "yAZSQIpfN9iu"
      }
    },
    {
      "cell_type": "code",
      "source": [
        "# This Python 3 environment comes with many helpful analytics libraries installed\n",
        "# It is defined by the kaggle/python Docker image: https://github.com/kaggle/docker-python\n",
        "# For example, here's several helpful packages to load\n",
        "\n",
        "import numpy as np # linear algebra\n",
        "import pandas as pd # data processing, CSV file I/O (e.g. pd.read_csv)\n",
        "import matplotlib.pyplot as plt\n",
        "import seaborn as sns\n",
        "import missingno as msno\n",
        "\n",
        "# Input data files are available in the read-only \"../input/\" directory\n",
        "# For example, running this (by clicking run or pressing Shift+Enter) will list all files under the input directory\n",
        "\n",
        "import os\n",
        "for dirname, _, filenames in os.walk('/kaggle/input'):\n",
        "    for filename in filenames:\n",
        "        print(os.path.join(dirname, filename))\n",
        "\n",
        "# to avoid warnings\n",
        "import warnings\n",
        "warnings.filterwarnings('ignore')"
      ],
      "metadata": {
        "_uuid": "8f2839f25d086af736a60e9eeb907d3b93b6e0e5",
        "_cell_guid": "b1076dfc-b9ad-4769-8c92-a6c4dae69d19",
        "execution": {
          "iopub.status.busy": "2024-03-28T07:31:49.706572Z",
          "iopub.execute_input": "2024-03-28T07:31:49.707077Z",
          "iopub.status.idle": "2024-03-28T07:31:49.726137Z",
          "shell.execute_reply.started": "2024-03-28T07:31:49.707028Z",
          "shell.execute_reply": "2024-03-28T07:31:49.724687Z"
        },
        "trusted": true,
        "id": "vSn8dYkhN9iu"
      },
      "execution_count": null,
      "outputs": []
    },
    {
      "cell_type": "markdown",
      "source": [
        "-----------------\n",
        "# **Step 2 : Read the Data**"
      ],
      "metadata": {
        "id": "XlNXTMtzN9iu"
      }
    },
    {
      "cell_type": "code",
      "source": [
        "# Raad the Data\n",
        "titanic = pd.read_csv(\"/kaggle/input/titanic-dataset/Titanic Dataset.csv\")\n",
        "titanic.head()"
      ],
      "metadata": {
        "execution": {
          "iopub.status.busy": "2024-03-28T07:31:49.739286Z",
          "iopub.execute_input": "2024-03-28T07:31:49.739846Z",
          "iopub.status.idle": "2024-03-28T07:31:49.773914Z",
          "shell.execute_reply.started": "2024-03-28T07:31:49.739797Z",
          "shell.execute_reply": "2024-03-28T07:31:49.772806Z"
        },
        "trusted": true,
        "id": "icA7qwRZN9iv"
      },
      "execution_count": null,
      "outputs": []
    },
    {
      "cell_type": "markdown",
      "source": [
        "--------------\n",
        "# **Step 3 : Explore the Data**"
      ],
      "metadata": {
        "id": "7J0PO6VzN9iv"
      }
    },
    {
      "cell_type": "code",
      "source": [
        "# Shape of Data\n",
        "titanic.shape"
      ],
      "metadata": {
        "execution": {
          "iopub.status.busy": "2024-03-28T07:31:49.776348Z",
          "iopub.execute_input": "2024-03-28T07:31:49.777414Z",
          "iopub.status.idle": "2024-03-28T07:31:49.786036Z",
          "shell.execute_reply.started": "2024-03-28T07:31:49.777372Z",
          "shell.execute_reply": "2024-03-28T07:31:49.784495Z"
        },
        "trusted": true,
        "id": "kc-u5OreN9iv"
      },
      "execution_count": null,
      "outputs": []
    },
    {
      "cell_type": "code",
      "source": [
        "# Information about data\n",
        "titanic.info()"
      ],
      "metadata": {
        "execution": {
          "iopub.status.busy": "2024-03-28T07:31:49.787432Z",
          "iopub.execute_input": "2024-03-28T07:31:49.789329Z",
          "iopub.status.idle": "2024-03-28T07:31:49.814047Z",
          "shell.execute_reply.started": "2024-03-28T07:31:49.789272Z",
          "shell.execute_reply": "2024-03-28T07:31:49.812895Z"
        },
        "trusted": true,
        "id": "iogf-0KbN9iv"
      },
      "execution_count": null,
      "outputs": []
    },
    {
      "cell_type": "code",
      "source": [
        "# Null value count\n",
        "titanic.isna().sum()"
      ],
      "metadata": {
        "execution": {
          "iopub.status.busy": "2024-03-28T07:31:49.815843Z",
          "iopub.execute_input": "2024-03-28T07:31:49.816468Z",
          "iopub.status.idle": "2024-03-28T07:31:49.828679Z",
          "shell.execute_reply.started": "2024-03-28T07:31:49.816427Z",
          "shell.execute_reply": "2024-03-28T07:31:49.826917Z"
        },
        "trusted": true,
        "id": "YEkZ6MpGN9iw"
      },
      "execution_count": null,
      "outputs": []
    },
    {
      "cell_type": "markdown",
      "source": [
        "###### This dataset has null values count for each feature in the Titanic dataset, highlighting the completeness and gaps in the data.\n",
        "------------------"
      ],
      "metadata": {
        "id": "bcwYEd16N9iw"
      }
    },
    {
      "cell_type": "code",
      "source": [
        "# Summary of data\n",
        "titanic.describe(include='all').T"
      ],
      "metadata": {
        "execution": {
          "iopub.status.busy": "2024-03-28T07:31:49.831602Z",
          "iopub.execute_input": "2024-03-28T07:31:49.832046Z",
          "iopub.status.idle": "2024-03-28T07:31:49.896879Z",
          "shell.execute_reply.started": "2024-03-28T07:31:49.831997Z",
          "shell.execute_reply": "2024-03-28T07:31:49.895479Z"
        },
        "trusted": true,
        "id": "4xfV3fTSN9iw"
      },
      "execution_count": null,
      "outputs": []
    },
    {
      "cell_type": "markdown",
      "source": [
        "# **Step 4 : Visulization of Missing Data in Titanic Dataset**\n",
        "\n",
        "-----------------\n",
        "\n",
        "# **4.1 Bar Plot : Missing Values in Titanic dataset**"
      ],
      "metadata": {
        "id": "_SEPNypfN9iw"
      }
    },
    {
      "cell_type": "code",
      "source": [
        "# Checking null values using barchart\n",
        "msno.bar(titanic,figsize=(10,6))\n",
        "plt.title(\"Missing Values in Titanic dataset Using Bar Plot\")\n",
        "plt.show();"
      ],
      "metadata": {
        "execution": {
          "iopub.status.busy": "2024-03-28T07:31:49.898808Z",
          "iopub.execute_input": "2024-03-28T07:31:49.899291Z",
          "iopub.status.idle": "2024-03-28T07:31:51.320098Z",
          "shell.execute_reply.started": "2024-03-28T07:31:49.899246Z",
          "shell.execute_reply": "2024-03-28T07:31:51.318423Z"
        },
        "trusted": true,
        "id": "t6-nAKCbN9iw"
      },
      "execution_count": null,
      "outputs": []
    },
    {
      "cell_type": "markdown",
      "source": [
        "## **Interpretation of the chart:**\n",
        "\n",
        "* The \"age\" feature has a relatively short bar, indicating a significant proportion of missing values.\n",
        "* The \"cabin\" feature also has a shortest bar, suggesting a large number of missing values for this feature as well.\n",
        "* Other features such as \"fare\", \"embarked\", \"body\", and \"home.dest\" also have missing values, but the bars are relatively tallerer compared to \"body\" and \"cabin\".\n",
        "\n",
        "--------------------"
      ],
      "metadata": {
        "id": "26cBPjErN9iw"
      }
    },
    {
      "cell_type": "markdown",
      "source": [
        "# **4.2 Matrix :  Relationships between missing values across different features**"
      ],
      "metadata": {
        "id": "AGoa-3nnN9ix"
      }
    },
    {
      "cell_type": "code",
      "source": [
        "# Visualize missing values using missingno\n",
        "msno.matrix(titanic,figsize=(10, 6))\n",
        "plt.title('Missing Values Matrix - Titanic Dataset')\n",
        "plt.show();"
      ],
      "metadata": {
        "execution": {
          "iopub.status.busy": "2024-03-28T07:31:51.321821Z",
          "iopub.execute_input": "2024-03-28T07:31:51.32236Z",
          "iopub.status.idle": "2024-03-28T07:31:51.873981Z",
          "shell.execute_reply.started": "2024-03-28T07:31:51.322313Z",
          "shell.execute_reply": "2024-03-28T07:31:51.872464Z"
        },
        "trusted": true,
        "id": "JFAS678HN9ix"
      },
      "execution_count": null,
      "outputs": []
    },
    {
      "cell_type": "markdown",
      "source": [
        "* **White Lines :** The white lines in the matrix represent missing values. Each horizontal line corresponds to a particular data point (passenger), and each vertical line corresponds to a specific feature.\n",
        "\n",
        "* **Dark Grey Sections :** The dark blue sections indicate the presence of non-missing values. In other words, areas without white lines represent data that is present in the dataset.\n",
        "\n",
        "## **Interpretation of the matrix :**\n",
        "\n",
        "1. You can observe patterns of missingness across different features. For example, if there are consecutive white lines in a specific column (feature), it indicates a continuous stretch of missing values for that feature across multiple data points.\n",
        "\n",
        "2. Patterns of missingness can also be observed across rows (data points). If there are consecutive white lines in a specific row, it indicates missing values for multiple features for that particular data point (passenger).\n",
        "\n",
        "3. The visualization helps identify potential relationships or correlations between missing values across different features. For instance, missing values in one feature might coincide with missing values in another feature, suggesting a potential relationship between those variables.\n",
        "\n",
        "Overall, the missing values matrix provides a comprehensive overview of missing data patterns in the Titanic dataset, facilitating the identification of missingness trends and guiding subsequent data preprocessing steps.\n",
        "\n",
        "--------------"
      ],
      "metadata": {
        "id": "O4cZS3D_N9ix"
      }
    },
    {
      "cell_type": "markdown",
      "source": [
        "# **4.3 Heatmap : Correlation between Missing Values**"
      ],
      "metadata": {
        "id": "WWKnfqg5N9ix"
      }
    },
    {
      "cell_type": "code",
      "source": [
        "# Correlation between missing data\n",
        "msno.heatmap(titanic,cmap='coolwarm',figsize=(8,6))\n",
        "plt.title(\"Correlation Between Missing Values in Titanic Dataset\")\n",
        "plt.show();"
      ],
      "metadata": {
        "execution": {
          "iopub.status.busy": "2024-03-28T07:31:51.875578Z",
          "iopub.execute_input": "2024-03-28T07:31:51.875959Z",
          "iopub.status.idle": "2024-03-28T07:31:52.538542Z",
          "shell.execute_reply.started": "2024-03-28T07:31:51.875927Z",
          "shell.execute_reply": "2024-03-28T07:31:52.537156Z"
        },
        "trusted": true,
        "id": "uWJR3S6nN9ix"
      },
      "execution_count": null,
      "outputs": []
    },
    {
      "cell_type": "markdown",
      "source": [
        "\n",
        "**1. Color Gradient :** The heatmap uses a color gradient to represent the correlation between missing values across different pairs of features. Darker colors indicate a stronger positive correlation, while lighter colors  indicate a weaker correlation or no correlation.\n",
        "\n",
        "\n",
        "**2. Off-Diagonal Cells:** Off-diagonal cells represent the correlation between missing values for pairs of features. A higher value (closer to 1) indicates a stronger positive correlation, meaning that when one feature has missing values, the other feature is also likely to have missing values.\n",
        "\n",
        "## **Interpretation of the heatmap :**\n",
        "\n",
        "* Darker regions indicate pairs of features where missing values tend to co-occur more frequently, suggesting a stronger positive correlation.\n",
        "\n",
        "* Lighter regions indicate pairs of features where missing values are less likely to co-occur, suggesting a weaker or no correlation between missing values for those features.\n",
        "\n",
        "The heatmap provides insights into potential relationships or dependencies between missing values across different features, which can inform strategies for handling missing data, such as imputation or deletion.\n",
        "\n",
        "-------------------------------"
      ],
      "metadata": {
        "id": "BerBh-50N9ix"
      }
    },
    {
      "cell_type": "markdown",
      "source": [
        "# **4.4 Bar Plot : Distribution of Missing Data**"
      ],
      "metadata": {
        "id": "57tfT6aYN9iy"
      }
    },
    {
      "cell_type": "code",
      "source": [
        "# Count missing values per column\n",
        "missing_count =titanic.isnull().sum()\n",
        "\n",
        "# Create a bar plot\n",
        "plt.figure(figsize=(10, 6))\n",
        "sns.barplot(x=missing_count.index, y=missing_count.values, palette=\"coolwarm\")\n",
        "plt.title('Distribution of Missing Values in Titanic Dataset (Per Column)')\n",
        "plt.xlabel('Columns')\n",
        "plt.ylabel('Number of Missing Values')\n",
        "plt.xticks(rotation=45)\n",
        "plt.show();"
      ],
      "metadata": {
        "execution": {
          "iopub.status.busy": "2024-03-28T07:31:52.542032Z",
          "iopub.execute_input": "2024-03-28T07:31:52.542471Z",
          "iopub.status.idle": "2024-03-28T07:31:52.923206Z",
          "shell.execute_reply.started": "2024-03-28T07:31:52.542436Z",
          "shell.execute_reply": "2024-03-28T07:31:52.921808Z"
        },
        "trusted": true,
        "id": "oecaT2iDN9iy"
      },
      "execution_count": null,
      "outputs": []
    },
    {
      "cell_type": "markdown",
      "source": [
        "**1. X-axis (Columns):** The x-axis represents the columns (features) in the Titanic dataset. Each bar corresponds to a specific feature.\n",
        "\n",
        "**2. Y-axis (Number of Missing Values):** The y-axis represents the number of missing values for each feature. The height of each bar indicates the count of missing values for the corresponding feature.\n",
        "\n",
        "**3. Bar Colors:** The color of each bar is determined by the palette \"coolwarm\", where cooler colors (e.g., blue) indicate a smaller number of missing values, and warmer colors (e.g., red) indicate a larger number of missing values.\n",
        "\n",
        "## **Interpretation of the chart:**\n",
        "\n",
        "*  Features with taller bars have a larger number of missing values, indicating a higher proportion of missing data for those features.\n",
        "\n",
        "* Features with shorter bars have a smaller number of missing values, indicating a lower proportion of missing data.\n",
        "\n",
        "* The chart provides a quick overview of the distribution of missing values across different features in the Titanic dataset, allowing you to identify which features have the most missing data.\n",
        "\n",
        "This visualization can help guide decisions on how to handle missing values during data preprocessing, such as imputation or deletion, based on the severity of missingness in each feature.\n",
        "\n",
        "----------"
      ],
      "metadata": {
        "id": "S_co3hn3N9iy"
      }
    },
    {
      "cell_type": "markdown",
      "source": [
        "# **4.5 Pie Chart : Percentage of Missing data**"
      ],
      "metadata": {
        "id": "z58dasiyN9iy"
      }
    },
    {
      "cell_type": "code",
      "source": [
        "# Calculate percentage of missing values\n",
        "missing_percentage = missing_count / len(titanic) * 100\n",
        "\n",
        "# Drop columns with no missing values for better visualization\n",
        "missing_percentage = missing_percentage[missing_percentage > 0]\n",
        "\n",
        "\n",
        "# custom colors\n",
        "custom_colors = ['yellow','blue', 'coral', 'purple','lightgreen', 'lightcoral','lightblue']\n",
        "\n",
        "# Create a pie chart of Missing Values\n",
        "\n",
        "plt.pie(missing_percentage, labels=missing_percentage.index, autopct='%1.1f%%', startangle=140, colors=custom_colors, wedgeprops={'edgecolor': 'white'})\n",
        "plt.title('Percentage of Missing Values in Titanic Dataset')\n",
        "plt.axis('equal')  # Equal aspect ratio ensures that pie is drawn as a circle.\n",
        "plt.show()"
      ],
      "metadata": {
        "execution": {
          "iopub.status.busy": "2024-03-28T07:31:52.925348Z",
          "iopub.execute_input": "2024-03-28T07:31:52.925721Z",
          "iopub.status.idle": "2024-03-28T07:31:53.120706Z",
          "shell.execute_reply.started": "2024-03-28T07:31:52.925691Z",
          "shell.execute_reply": "2024-03-28T07:31:53.119239Z"
        },
        "trusted": true,
        "id": "IOQbK6YXN9iy"
      },
      "execution_count": null,
      "outputs": []
    },
    {
      "cell_type": "markdown",
      "source": [
        "This pie chart visualizes the percentage of missing values for each column (feature) in the Titanic dataset. Here's how to interpret the chart:\n",
        "\n",
        "**1. Pie Slices:** Each slice of the pie represents a column (feature) in the Titanic dataset that contains missing values. The size of each slice corresponds to the percentage of missing values for the respective feature.\n",
        "\n",
        "**2. Labels :** The labels around the pie slices indicate the names of the features with missing values.\n",
        "\n",
        "**3. Percentage:** The percentage value displayed on each slice represents the proportion of missing values relative to the total number of entries in the dataset.\n",
        "\n",
        "## **Interpretation of the chart:**\n",
        "\n",
        "* The pie chart provides a visual breakdown of the distribution of missing values across different features in the Titanic dataset.\n",
        "\n",
        "* Larger slices indicate features with a higher percentage of missing values, while smaller slices indicate features with a lower percentage of missing values.\n",
        "\n",
        "* By examining the chart, you can quickly identify which features contribute the most to the overall missingness in the dataset.\n",
        "\n",
        "* This visualization can help prioritize data cleaning efforts and inform decisions on how to handle missing values for each feature during data preprocessing.\n",
        "\n",
        "Overall, the pie chart offers a concise summary of the extent of missing data within the Titanic dataset, allowing for easy identification of features that may require special attention during data analysis and modeling.\n",
        "\n",
        "---------------"
      ],
      "metadata": {
        "id": "hQDZ-gMPN9iz"
      }
    },
    {
      "cell_type": "markdown",
      "source": [
        "# **4.6 Histogram : Age Distribution(with or without missing values)**"
      ],
      "metadata": {
        "id": "4GaJYh0oN9iz"
      }
    },
    {
      "cell_type": "code",
      "source": [
        "# Histplot\n",
        "plt.figure(figsize=(15,6))\n",
        "# Before filling missing values\n",
        "plt.subplot(1,2,1)\n",
        "sns.histplot(titanic['age'], bins=20, kde=True, color='red')\n",
        "plt.title('Age Distribution in Titanic Dataset (Missing Values)')\n",
        "plt.xlabel('Age')\n",
        "plt.ylabel('Frequency')\n",
        "\n",
        "# Filling Missing Values in Age column\n",
        "mean_age = titanic['age'].mean().round()\n",
        "titanic['age'].fillna(mean_age,inplace=True)\n",
        "\n",
        "# After filling missing values\n",
        "plt.subplot(1,2,2)\n",
        "\n",
        "sns.histplot(titanic['age'], bins=20, kde=True, color='green')\n",
        "plt.title('Age Distribution in Titanic Dataset (After Filling Missing Values)')\n",
        "plt.xlabel('Age')\n",
        "plt.ylabel('Frequency')\n",
        "\n",
        "plt.tight_layout()\n",
        "plt.show();"
      ],
      "metadata": {
        "execution": {
          "iopub.status.busy": "2024-03-28T07:31:53.122729Z",
          "iopub.execute_input": "2024-03-28T07:31:53.123492Z",
          "iopub.status.idle": "2024-03-28T07:31:54.095729Z",
          "shell.execute_reply.started": "2024-03-28T07:31:53.123434Z",
          "shell.execute_reply": "2024-03-28T07:31:54.094686Z"
        },
        "trusted": true,
        "id": "E5hdRKs6N9iz"
      },
      "execution_count": null,
      "outputs": []
    },
    {
      "cell_type": "markdown",
      "source": [
        "## **Interpretation of both distribution :**\n",
        "\n",
        "**1. Before Filling Missing Values (Left Plot):**\n",
        "\n",
        "The left plot shows the distribution of ages in the dataset when missing values are present.\n",
        "The distribution appears to be slightly right-skewed, with more passengers concentrated in younger age groups.\n",
        "The density curve (kde) suggests a peak around the late teens to early twenties, indicating a relatively higher frequency of younger passengers.\n",
        "\n",
        "**2. After Filling Missing Values (Right Plot):**\n",
        "\n",
        "The right plot displays the distribution of ages in the dataset after missing values have been filled.\n",
        "The distribution now appears more symmetric and slightly shifted towards the mean age.\n",
        "With the missing values filled using the mean age (approximately 30 years), the distribution is adjusted to have a peak around the mean age.\n",
        "\n",
        "-------------------------------\n",
        "## Mean and Standard Deviation:\n",
        "\n",
        "### Before Filling Missing Values:\n",
        "\n",
        "**Mean :** Approximately 29.88\n",
        "\n",
        "**Standard Deviation:** Approximately 14.41\n",
        "\n",
        "### After Filling Missing Values:\n",
        "\n",
        "**Mean :** Approximately 29.91\n",
        "\n",
        "**Standard Deviation:** Approximately 12.88\n",
        "\n",
        "------------------------------------------\n",
        "## Distribution Type:\n",
        "Based on the mean and standard deviation, both distributions have a similar mean around 30 years. The standard deviation decreases slightly after filling missing values.\n",
        "\n",
        "**'Before Filling Missing Values':**\n",
        "\n",
        "-The distribution is slightly right-skewed due to the longer tail towards older ages, as indicated by a higher standard deviation.\n",
        "\n",
        "\n",
        "**'After Filling Missing Values' :**\n",
        "\n",
        "-The distribution is slightly less skewed and appears closer to a normal distribution, with a narrower spread of data around the mean.\n",
        "\n",
        "Overall, filling missing values in the \"Age\" feature has shifted the distribution closer to normality, reducing the skewness observed in the original distribution with missing values.\n",
        "\n",
        "\n",
        "----------------------------------"
      ],
      "metadata": {
        "id": "EnaKEoAcN9iz"
      }
    },
    {
      "cell_type": "markdown",
      "source": [
        "# **4.7 Count Plot : Embarked Distribution**"
      ],
      "metadata": {
        "id": "W1Ip9k1rN9iz"
      }
    },
    {
      "cell_type": "code",
      "source": [
        "# Fill missing values in 'embarked' column\n",
        "most_common_embarked = titanic['embarked'].mode()[0]\n",
        "titanic['embarked'].fillna(most_common_embarked, inplace=True)\n",
        "\n",
        "# Visualize 'embarked' column after filling missing values\n",
        "\n",
        "sns.countplot(data=titanic, x='embarked', palette='Set1')\n",
        "plt.title('Embarked Distribution (After Filling Missing Values)')\n",
        "plt.xlabel('Embarked')\n",
        "plt.ylabel('Count')\n",
        "plt.show();"
      ],
      "metadata": {
        "execution": {
          "iopub.status.busy": "2024-03-28T07:31:54.096886Z",
          "iopub.execute_input": "2024-03-28T07:31:54.097471Z",
          "iopub.status.idle": "2024-03-28T07:31:54.322087Z",
          "shell.execute_reply.started": "2024-03-28T07:31:54.097436Z",
          "shell.execute_reply": "2024-03-28T07:31:54.320431Z"
        },
        "trusted": true,
        "id": "xAcic1WMN9i0"
      },
      "execution_count": null,
      "outputs": []
    },
    {
      "cell_type": "markdown",
      "source": [
        "\n",
        "The visual and code provided visualize the distribution of the 'embarked' column in the Titanic dataset before and after filling missing values.\n",
        "\n",
        "## **Interpretation of the chart :**\n",
        "\n",
        "### Visualization Interpretation:\n",
        "\n",
        "The bar plot visualizes the distribution of passengers across different embarkation ports (C = Cherbourg, Q = Queenstown, S = Southampton) after filling the missing values.\n",
        "\n",
        "* Each bar represents the count of passengers who embarked from a particular port.\n",
        "* The plot illustrates the relative frequency of passengers embarking from each port after filling the missing values.\n",
        "\n",
        "* The mode value (most common embarkation port) is used to fill the missing values, so the bar representing the mode port will likely be taller than the others, indicating that it is the most common embarkation port.\n",
        "\n",
        "\n",
        "**The code utilizes the mode (most common value) of the 'embarked' column to fill the missing values.\n",
        "This approach is suitable for categorical data like embarkation ports, where the mode represents the most frequent category in the dataset.\n",
        "By filling missing values with the mode, we aim to preserve the distributional characteristics of the data while ensuring completeness.**\n",
        "\n",
        "\n",
        "Overall, the visual and code effectively demonstrate the impact of filling missing values with the mode on the distribution of embarkation ports in the Titanic dataset, ensuring a comprehensive and accurate analysis.\n",
        "\n",
        "--------------"
      ],
      "metadata": {
        "id": "ceMZdrFhN9i0"
      }
    },
    {
      "cell_type": "markdown",
      "source": [
        "# **4.8 Bar Plot : Top 5 Frequent Home Destinations**"
      ],
      "metadata": {
        "id": "PSHLk45lN9i0"
      }
    },
    {
      "cell_type": "code",
      "source": [
        "# Fill missing values in 'embarked' column\n",
        "most_common_dest = titanic['home.dest'].mode()[0]\n",
        "titanic['home.dest'].fillna(most_common_dest, inplace=True)\n",
        "\n",
        "# Value counts of 'home.dest' column\n",
        "home_dest_counts = titanic['home.dest'].value_counts().head(5)  # Consider only top 5 most frequent destinations\n",
        "\n",
        "# Plotting\n",
        "plt.figure(figsize=(10, 5))\n",
        "home_dest_counts.plot(kind='bar', color='skyblue')\n",
        "plt.title('Top 5 Most Frequent Home Destinations')\n",
        "plt.xlabel('Home Destination')\n",
        "plt.ylabel('Count')\n",
        "plt.xticks(rotation=45)  # Rotate x-axis labels for better readability\n",
        "plt.tight_layout()\n",
        "plt.show()"
      ],
      "metadata": {
        "execution": {
          "iopub.status.busy": "2024-03-28T07:31:54.323523Z",
          "iopub.execute_input": "2024-03-28T07:31:54.323905Z",
          "iopub.status.idle": "2024-03-28T07:31:54.617988Z",
          "shell.execute_reply.started": "2024-03-28T07:31:54.323871Z",
          "shell.execute_reply": "2024-03-28T07:31:54.616331Z"
        },
        "trusted": true,
        "id": "bSF6W9ufN9i0"
      },
      "execution_count": null,
      "outputs": []
    },
    {
      "cell_type": "markdown",
      "source": [
        "## **Interpretation of Chart**\n",
        "The bar chart visualizes the top 5 most frequent home destinations of Titanic passengers after filling missing values in the 'home.dest' column. Here's the interpretation:\n",
        "\n",
        "**1. Home Destination :** Each bar represents a home destination (e.g., city or country) where passengers were headed or where they had their final destination.\n",
        "\n",
        "**2. Count :** The height of each bar indicates the count of passengers associated with the respective home destination. A taller bar represents a higher frequency of passengers having that destination.\n",
        "\n",
        "------------------\n",
        "#### Top 5 Destinations: The chart focuses on the top 5 most frequent home destinations among Titanic passengers\n",
        "\n",
        "\n",
        "\n",
        "**X-axis Labels:** The x-axis labels display the names of the top 5 home destinations.\n",
        "\n",
        "**Y-axis:** The y-axis represents the count of passengers associated with each home destination.\n",
        "\n",
        "This visualization allows for quick identification of the most prevalent home destinations among Titanic passengers after filling missing values. It provides insights into the distribution of passenger destinations and helps understand the demographics or travel patterns within the dataset.\n",
        "\n",
        "---\n",
        "\n"
      ],
      "metadata": {
        "id": "Qjhm_eSkN9i0"
      }
    },
    {
      "cell_type": "markdown",
      "source": [
        "# **4.9 Box Plot : Distribution of Numerical Features in Titanic**"
      ],
      "metadata": {
        "id": "p_FEXb81N9i0"
      }
    },
    {
      "cell_type": "code",
      "source": [
        "# Filling missing values in Fare column with mode\n",
        "most_common_fare = titanic['fare'].mode()[0]\n",
        "titanic['fare'].fillna(most_common_fare, inplace=True)"
      ],
      "metadata": {
        "execution": {
          "iopub.status.busy": "2024-03-28T07:31:54.61984Z",
          "iopub.execute_input": "2024-03-28T07:31:54.62038Z",
          "iopub.status.idle": "2024-03-28T07:31:54.629256Z",
          "shell.execute_reply.started": "2024-03-28T07:31:54.620333Z",
          "shell.execute_reply": "2024-03-28T07:31:54.627873Z"
        },
        "trusted": true,
        "id": "HfSqNCAXN9i0"
      },
      "execution_count": null,
      "outputs": []
    },
    {
      "cell_type": "code",
      "source": [
        "plt.figure(figsize=(10,6))\n",
        "sns.boxplot(titanic[['pclass','body','fare','parch','sibsp']])\n",
        "plt.title(\"Distribution of Numerical Features in Titanic Dataset\")\n",
        "plt.show();"
      ],
      "metadata": {
        "execution": {
          "iopub.status.busy": "2024-03-28T07:31:54.631101Z",
          "iopub.execute_input": "2024-03-28T07:31:54.631496Z",
          "iopub.status.idle": "2024-03-28T07:31:54.905613Z",
          "shell.execute_reply.started": "2024-03-28T07:31:54.631461Z",
          "shell.execute_reply": "2024-03-28T07:31:54.904179Z"
        },
        "trusted": true,
        "id": "uV9ZNWfkN9i5"
      },
      "execution_count": null,
      "outputs": []
    },
    {
      "cell_type": "markdown",
      "source": [
        "\n",
        "The box plot visualizes the distribution of numerical variables 'pclass', 'body', 'fare', 'parch', and 'sibsp' in the Titanic dataset.\n",
        "\n",
        "## Interpretation of the chart :\n",
        "\n",
        "**1. pclass:** This box plot shows the distribution of ticket classes among passengers. The box represents the interquartile range (IQR), with the horizontal line inside indicating the median. The whiskers extend to the minimum and maximum values within 1.5 times the IQR from the first and third quartiles,\n",
        "\n",
        "**2. body:** This box plot displays the distribution of body identification numbers of recovered passengers.\n",
        "\n",
        "**3. fare:** This box plot illustrates the distribution of passenger fares. It provides insight into the range of fares paid by passengers, with the box indicating the IQR and the whiskers extending to 1.5 times the IQR. Outliers are represented as individual points.\n",
        "\n",
        "**4. parch:** This box plot visualizes the distribution of the number of parents or children aboard the Titanic for each passenger.\n",
        "\n",
        "**5. sibsp:** This box plot represents the distribution of the number of siblings or spouses aboard the Titanic for each passenger.\n",
        "\n",
        "Overall, the box plot provides a comprehensive overview of the distribution of numerical variables in the Titanic dataset, allowing for the identification of outliers and understanding the spread of data within each variable.\n",
        "\n",
        "--------"
      ],
      "metadata": {
        "id": "pF7myC-xN9i5"
      }
    },
    {
      "cell_type": "code",
      "source": [
        "titanic.isna().sum()"
      ],
      "metadata": {
        "execution": {
          "iopub.status.busy": "2024-03-28T07:31:54.907429Z",
          "iopub.execute_input": "2024-03-28T07:31:54.907816Z",
          "iopub.status.idle": "2024-03-28T07:31:54.921023Z",
          "shell.execute_reply.started": "2024-03-28T07:31:54.907774Z",
          "shell.execute_reply": "2024-03-28T07:31:54.919062Z"
        },
        "trusted": true,
        "id": "ZZWPtXgcN9i6"
      },
      "execution_count": null,
      "outputs": []
    },
    {
      "cell_type": "markdown",
      "source": [
        "--------------\n",
        "# **Step 5 : \"Deciphering Missing Data: Titanic Dataset Strategies\"**\n",
        "\n",
        "## 1] Deleting Rows with Missing Values:\n",
        "\n",
        "### 1. Advantages:\n",
        "Simple and straightforward approach.\n",
        "Preserves the integrity of other data in the columns without missing values.\n",
        "### 2. Disadvantages:\n",
        "Loss of potentially valuable information from the deleted rows.\n",
        "Reduction in the size of the dataset, which may impact the effectiveness of subsequent analysis or modeling.\n",
        "### 3. Suitability:\n",
        "Suitable when the number of rows with missing values is relatively small compared to the total dataset.\n",
        "Appropriate if missing values occur randomly and do not represent systematic bias.\n",
        "\n",
        "---------------------\n",
        "## 2] Imputing Missing Values:\n",
        "\n",
        "### 1. Advantages:\n",
        "Retains all observations in the dataset.\n",
        "Allows for the utilization of valuable information from other features to estimate missing values.\n",
        "### 2. Disadvantages:\n",
        "Imputation introduces uncertainty and potential bias into the dataset.\n",
        "The accuracy of imputed values depends on the chosen imputation method and the underlying distribution of the data.\n",
        "### 3. Suitability:\n",
        "Suitable when the missing values follow a pattern or can be reasonably estimated from other available information.\n",
        "Appropriate for maintaining the size and integrity of the dataset while dealing with missing values.\n",
        "\n",
        "\n",
        "----------------------\n",
        "## 3] Deleting Columns with Missing Values:\n",
        "\n",
        "### 1. Advantages:\n",
        "Simplifies the dataset by removing features with a significant amount of missing data.\n",
        "Avoids potential biases introduced by imputation methods.\n",
        "### 2. Disadvantages:\n",
        "Loss of potentially valuable information contained in the deleted columns.\n",
        "Reduction in the richness and complexity of the dataset, which may limit the scope of analysis or modeling.\n",
        "### 3. Suitability:\n",
        "Suitable when the columns with missing values are deemed irrelevant or redundant for the analysis.\n",
        "Appropriate if the missing values in the columns are too extensive to impute or if the columns are not expected to contribute significantly to the analysis or modeling process.\n",
        "\n",
        "-----------------"
      ],
      "metadata": {
        "id": "bHHCMnOvN9i6"
      }
    },
    {
      "cell_type": "markdown",
      "source": [
        "# **\"Share Your Insights\"**\n",
        "Thank you for exploring this notebook on handling missing values in the Titanic dataset! We hope you found the analysis and strategies useful in understanding how to deal with missing data effectively.\n",
        "\n",
        "Now, we invite you to share your insights and experiences with handling missing values:\n",
        "\n",
        "* **Have you encountered similar challenges with missing data in your own projects or analyses?**\n",
        "* **What strategies or techniques have you found most effective in dealing with missing values?**\n",
        "* **Do you have any additional tips or best practices to share with the community?**\n",
        "\n",
        "Your contributions are valuable and can help enrich our understanding of this topic. Feel free to leave your thoughts, questions, or suggestions in the comments section below.\n",
        "\n",
        "And if you found this notebook helpful, don't forget to upvote it to support our work and help others discover it!\n",
        "\n",
        "\n",
        "#### **-----------------------------Thank you for your participation and happy analyzing!------------------------------------------**\n",
        "\n",
        "\n",
        "\n",
        "\n",
        "\n",
        "\n",
        "\n",
        "\n",
        "\n",
        "\n",
        "\n",
        "\n",
        "\n",
        "\n",
        "------------------------------"
      ],
      "metadata": {
        "id": "vl-vbpSNN9i6"
      }
    }
  ]
}